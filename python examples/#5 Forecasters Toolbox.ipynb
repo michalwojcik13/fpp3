{
 "cells": [
  {
   "cell_type": "markdown",
   "metadata": {},
   "source": [
    "## Methods of residual diagnostics\n",
    "\n",
    "**Mean** \\\n",
    "a regular mean of all fitted values prolonged into the future\n",
    "\n",
    "**Naive** \\\n",
    "a future Y_hatt is equal to Yt-1. Current predicted value is equal to the value from 1 timestep before.\n",
    "\n",
    "**Drift** \\\n",
    "average change from the whole dataset applied to the last observation ()\n",
    "\n",
    "**Seasonal Naive** \\\n",
    "we set each forecast to be equal to the last observed value from the same season (e.g., the same month of the previous year)."
   ]
  },
  {
   "cell_type": "code",
   "execution_count": null,
   "metadata": {},
   "outputs": [],
   "source": []
  }
 ],
 "metadata": {
  "language_info": {
   "name": "python"
  }
 },
 "nbformat": 4,
 "nbformat_minor": 2
}
