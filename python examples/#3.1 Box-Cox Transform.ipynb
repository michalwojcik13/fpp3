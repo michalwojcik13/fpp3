{
 "cells": [
  {
   "cell_type": "markdown",
   "id": "44de62a1",
   "metadata": {},
   "source": [
    "# Box-Cox Transform\n"
   ]
  },
  {
   "cell_type": "markdown",
   "id": "53fd97cc",
   "metadata": {},
   "source": [
    "## What is the Box-Cox Transform?"
   ]
  },
  {
   "cell_type": "markdown",
   "id": "71322b49",
   "metadata": {},
   "source": [
    "The Box-Cox transforms non-normal data to normal distribution like data.\n",
    "\n",
    "Why do we need our time series data to resemble a normal distribution? Well, when fitting certain models, such as ARIMA, they use the maximum likelihood estimation (MLE) to determine their parameters. MLE by definition must fit against a certain distribution, which for most packages is the normal distribution.\n",
    "\n",
    "The Box-Cox transformation is parameterised by λ (that takes real values from -5 to 5) and transforms the time series, y, as:"
   ]
  },
  {
   "attachments": {
    "1*jf-zNg4Cu1bb3YIAjFActQ.png": {
     "image/png": "[encoded data removed]"
    }
   },
   "cell_type": "markdown",
   "id": "999b1c04",
   "metadata": {},
   "source": [
    "![1*jf-zNg4Cu1bb3YIAjFActQ.png](attachment:1*jf-zNg4Cu1bb3YIAjFActQ.png)"
   ]
  },
  {
   "cell_type": "markdown",
   "id": "781b45dc",
   "metadata": {},
   "source": [
    "We see that with λ=0 it is the natural log transform, however there are many others depending on the value λ.\n",
    "\n",
    "For example, if λ=0 it is the square root transform, λ=1 there is no transform and λ=3 is the cubic transform.\n",
    "\n",
    "The value λ is chosen by seeing which value best approximates the transformed data to the normal distribution. Luckily, in computing packages this is easily done for us!"
   ]
  },
  {
   "cell_type": "markdown",
   "id": "5cbe5310",
   "metadata": {},
   "source": [
    "## Visualise Data\n"
   ]
  },
  {
   "cell_type": "code",
   "execution_count": null,
   "id": "d9d06138",
   "metadata": {},
   "outputs": [],
   "source": [
    "# Import packages\n",
    "import plotly.express as px\n",
    "import pandas as pd\n",
    "from statsmodels.tsa.stattools import adfuller\n",
    "import numpy as np\n",
    "from scipy.stats import boxcox"
   ]
  },
  {
   "cell_type": "code",
   "execution_count": null,
   "id": "f0634717",
   "metadata": {},
   "outputs": [],
   "source": [
    "# Read in the data\n",
    "data = pd.read_csv('AirPassengers.csv')"
   ]
  },
  {
   "cell_type": "code",
   "execution_count": null,
   "id": "336ff52b",
   "metadata": {},
   "outputs": [],
   "source": [
    "def plotting(title, data, x, y, x_label, y_label):\n",
    "    \"\"\"General function to plot the passenger data.\"\"\"\n",
    "    fig = px.line(data, x=data[x], y=data[y], labels={x: x_label, y: y_label})\n",
    "\n",
    "    fig.update_layout(template=\"simple_white\", font=dict(size=18),\n",
    "                      title_text=title, width=650,\n",
    "                      title_x=0.5, height=400)\n",
    "\n",
    "    fig.show()"
   ]
  },
  {
   "cell_type": "code",
   "execution_count": null,
   "id": "ad3fd663",
   "metadata": {},
   "outputs": [],
   "source": [
    "# Plot the airline passenger data\n",
    "plotting(title='Airline Passengers', data=data, x='Month',\n",
    "         y='#Passengers', x_label='Date', y_label='Passengers')"
   ]
  },
  {
   "cell_type": "markdown",
   "id": "4f43f241",
   "metadata": {},
   "source": [
    "The data is clearly not stationary as the mean and variance are both increasing with time. To stabilise the variance, we can use the Box-Cox transform like we discussed above."
   ]
  },
  {
   "cell_type": "markdown",
   "id": "bde44e3c",
   "metadata": {},
   "source": [
    "## Applying Box-Cox"
   ]
  },
  {
   "cell_type": "code",
   "execution_count": null,
   "id": "b7082c71",
   "metadata": {},
   "outputs": [],
   "source": [
    "# Apply box-cox transform and plot it\n",
    "data['Passengers_box_cox'], lam = boxcox(data['#Passengers'])\n",
    "\n",
    "plotting(title='Airline Passengers', data=data, x='Month', y='Passengers_box_cox',\n",
    "         x_label='Date', y_label='Passengers<br>Box-Cox Transform', text=True, lam=lam)"
   ]
  },
  {
   "cell_type": "markdown",
   "id": "9326c09e",
   "metadata": {},
   "source": [
    "Our variance is now stable and the fluctuations are on a consistent level! The optimal λ value is 0.148, which is near a perfect natural logarithmic transform but not quite. "
   ]
  },
  {
   "cell_type": "code",
   "execution_count": null,
   "id": "0d87fda1",
   "metadata": {},
   "outputs": [],
   "source": []
  }
 ],
 "metadata": {
  "kernelspec": {
   "display_name": "Python 3 (ipykernel)",
   "language": "python",
   "name": "python3"
  },
  "language_info": {
   "codemirror_mode": {
    "name": "ipython",
    "version": 3
   },
   "file_extension": ".py",
   "mimetype": "text/x-python",
   "name": "python",
   "nbconvert_exporter": "python",
   "pygments_lexer": "ipython3",
   "version": "3.9.12"
  }
 },
 "nbformat": 4,
 "nbformat_minor": 5
}
